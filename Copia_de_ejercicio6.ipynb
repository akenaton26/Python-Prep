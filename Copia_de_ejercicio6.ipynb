{
  "cells": [
    {
      "cell_type": "markdown",
      "metadata": {
        "id": "view-in-github",
        "colab_type": "text"
      },
      "source": [
        "<a href=\"https://colab.research.google.com/github/akenaton26/Python-Prep/blob/main/Copia_de_ejercicio6.ipynb\" target=\"_parent\"><img src=\"https://colab.research.google.com/assets/colab-badge.svg\" alt=\"Open In Colab\"/></a>"
      ]
    },
    {
      "cell_type": "markdown",
      "metadata": {
        "id": "PdblVR050KVX"
      },
      "source": [
        "## Ejercicio\n",
        "Los alumnos de un curso se han dividido en dos grupos A y B de acuerdo al sexo y el nombre. El grupo A esta formado por las mujeres con un nombre anterior a la M y los hombres con un nombre posterior a la N y el grupo B por el resto.\n",
        "Escribir un programa que pregunte al usuario su nombre y sexo, y muestre por pantalla el grupo que le corresponde.\n"
      ]
    },
    {
      "cell_type": "markdown",
      "source": [],
      "metadata": {
        "id": "hHFjbfff0sjf"
      }
    },
    {
      "cell_type": "markdown",
      "metadata": {
        "id": "M3t6sSiv0KVn"
      },
      "source": [
        "## Solución 1"
      ]
    },
    {
      "cell_type": "code",
      "execution_count": null,
      "metadata": {
        "id": "JuDpmYwq0KVp",
        "outputId": "1a01956d-6db3-486a-d769-6946d3311b5d"
      },
      "outputs": [
        {
          "name": "stdin",
          "output_type": "stream",
          "text": [
            "¿Cómo te llamas?  Alf\n",
            "¿Cuál es tu sexo (M o H)?  H\n"
          ]
        },
        {
          "name": "stdout",
          "output_type": "stream",
          "text": [
            "Tu grupo es B\n"
          ]
        }
      ],
      "source": [
        "name = input(\"¿Cómo te llamas? \")\n",
        "gender = input(\"¿Cuál es tu sexo (M o H)? \")\n",
        "if gender == \"M\":\n",
        "    if name.lower() < \"m\":\n",
        "        group = \"A\"\n",
        "    else:\n",
        "        group = \"B\"\n",
        "else:\n",
        "    if name.lower() > \"n\":\n",
        "        group = \"A\"\n",
        "    else:\n",
        "        group = \"B\"\n",
        "print(\"Tu grupo es \" + group)"
      ]
    },
    {
      "cell_type": "markdown",
      "metadata": {
        "id": "52IxUg080KVv"
      },
      "source": [
        "## Solución 2"
      ]
    },
    {
      "cell_type": "code",
      "execution_count": null,
      "metadata": {
        "id": "41bgxJx_0KVw",
        "outputId": "b187899e-81b3-418b-b038-ba5ee91ff128"
      },
      "outputs": [
        {
          "name": "stdin",
          "output_type": "stream",
          "text": [
            "¿Cómo te llamas?  Carmen\n",
            "¿Cuál es tu sexo (M o H)?  M\n"
          ]
        },
        {
          "name": "stdout",
          "output_type": "stream",
          "text": [
            "Tu grupo es A\n"
          ]
        }
      ],
      "source": [
        "name = input(\"¿Cómo te llamas? \")\n",
        "gender = input(\"¿Cuál es tu sexo (M o H)? \")\n",
        "if (gender == \"M\" and name.lower() < 'm') or (gender == \"H\" and name.lower() > 'n'):\n",
        "    group = \"A\"\n",
        "else:\n",
        "    group = \"B\"\n",
        "print(\"Tu grupo es \" + group)"
      ]
    },
    {
      "cell_type": "markdown",
      "source": [
        "## solucion 3"
      ],
      "metadata": {
        "id": "-JY2v-wg1JTZ"
      }
    },
    {
      "cell_type": "code",
      "source": [
        "nombre=input('introduce tu nombre :')\n",
        "genero=input('introduce te genero  F o M :')\n",
        "\n",
        "if genero== 'f' and nombre< 'm':\n",
        "    grupo='A'\n",
        "elif genero== 'm' and nombre> 'n':\n",
        "    grupo= 'A'\n",
        "else:\n",
        "    grupo= 'B'\n",
        "print('perteneces al grupo '+ grupo)\n"
      ],
      "metadata": {
        "colab": {
          "base_uri": "https://localhost:8080/"
        },
        "id": "P3w4kfJp1Mbi",
        "outputId": "7436636f-b283-448c-a7ca-36798ea9de04"
      },
      "execution_count": 1,
      "outputs": [
        {
          "output_type": "stream",
          "name": "stdout",
          "text": [
            "introduce tu nombre :alejandra\n",
            "introduce te genero  F o M :f\n",
            "perteneces al grupo A\n"
          ]
        }
      ]
    }
  ],
  "metadata": {
    "kernelspec": {
      "display_name": "Python 3",
      "language": "python",
      "name": "python3"
    },
    "language_info": {
      "codemirror_mode": {
        "name": "ipython",
        "version": 3
      },
      "file_extension": ".py",
      "mimetype": "text/x-python",
      "name": "python",
      "nbconvert_exporter": "python",
      "pygments_lexer": "ipython3",
      "version": "3.7.1"
    },
    "colab": {
      "provenance": [],
      "include_colab_link": true
    }
  },
  "nbformat": 4,
  "nbformat_minor": 0
}